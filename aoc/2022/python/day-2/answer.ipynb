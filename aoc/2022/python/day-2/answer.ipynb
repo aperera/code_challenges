{
 "cells": [
  {
   "cell_type": "code",
   "execution_count": null,
   "metadata": {},
   "outputs": [],
   "source": [
    "with open('./puzzle-input.txt', 'r') as file:\n",
    "    rounds = [line.replace(\" \", \"\").rstrip(\"\\n\") for line in file]\n",
    "\n",
    "print(rounds)"
   ]
  },
  {
   "cell_type": "code",
   "execution_count": null,
   "metadata": {},
   "outputs": [],
   "source": [
    "# A is Rock = 1\n",
    "# B is Paper = 2\n",
    "# C is Scissors = 3\n",
    "#\n",
    "# X assume Rock = 1\n",
    "# Y assume paper = 2\n",
    "# Z assume Scissors = 3\n",
    "#\n",
    "# {Rock,A,X} = 1 \n",
    "# {Paper,B,Y} = 2\n",
    "# {Scissors,C,Z} = 3\n",
    "#\n",
    "# lose = 0\n",
    "# draw = 3\n",
    "# win = 6\n",
    "# \n",
    "# P + Q = {DRAW,LOSS,WIN}\n",
    "# ----------------------------------------------\n",
    "# Rounds | Result | TOTAL (Q+{DRAW,LOSS,WIN})\n",
    "# ----------------------------------------------\n",
    "# A vs X = DRAW   = (1+3) = 4\n",
    "# A vs Y = WIN    = (2+6) = 8\n",
    "# A vs Z = LOSS   = (3+0) = 3\n",
    "#\n",
    "# B vs X = LOSS   = (1+0) = 1\n",
    "# B vs Y = DRAW   = (2+3) = 5\n",
    "# B vs Z = WIN    = (3+6) = 9\n",
    "#\n",
    "# C vs X = WIN    = (1+6) = 7\n",
    "# C vs Y = LOSS   = (2+0) = 2\n",
    "# C vs Z = DRAW   = (3+3) = 6\n",
    "#\n",
    "# Outcomes -> 3*3 = 9\n",
    "expected_outcomes = {\n",
    "    \"AX\":4, \"AY\":8, \"AZ\":3, \n",
    "    \"BX\":1, \"BY\":5, \"BZ\":9, \n",
    "    \"CX\":7, \"CY\":2, \"CZ\":6 \n",
    "}\n",
    "\n",
    "expected_score = sum(expected_outcomes[round] for round in rounds)\n",
    "\n",
    "print(expected_score) # 1st answer\n"
   ]
  },
  {
   "cell_type": "code",
   "execution_count": null,
   "metadata": {},
   "outputs": [],
   "source": [
    "# A is Rock = 1\n",
    "# B is Paper = 2\n",
    "# C is Scissors = 3\n",
    "\n",
    "# X is lose = 0\n",
    "# Y is Draw = 3\n",
    "# Z is Win = 6\n",
    "# \n",
    "# {Rock,A} = 1\n",
    "# {Paper,B} = 2\n",
    "# {Scissor,C} = 3\n",
    "#\n",
    "# {X,lose} = 0\n",
    "# {Y,draw} = 3\n",
    "# {Z,win}  = 6\n",
    "#\n",
    "# P + Q{A,B,C} = {DRAW,LOSS,WIN}\n",
    "# -----------------------------------------------------\n",
    "# Rounds    | Result | TOTAL (Q{A,B,C}+{DRAW,LOSS,WIN})\n",
    "# -----------------------------------------------------\n",
    "# A vs X(C) = LOSE   = (3+0) = 3\n",
    "# A vs Y(A) = DRAW   = (1+3) = 4\n",
    "# A vs Z(B) = WIN    = (2+6) = 8\n",
    "#\n",
    "# B vs X(A) = LOSE   = (1+0) = 1\n",
    "# B vs Y(B) = DRAW   = (2+3) = 5\n",
    "# B vs Z(C) = WIN    = (3+6) = 9\n",
    "#\n",
    "# C vs X(B) = LOSE   = (2+0) = 2\n",
    "# C vs Y(C) = DRAW   = (3+3) = 6\n",
    "# C vs Z(A) = WIN    = (1+6) = 7\n",
    "#\n",
    "# Outcomes -> 3*3 = 9\n",
    "desired_outcomes = {\n",
    "    \"AX\":3, \"AY\":4, \"AZ\":8,\n",
    "    \"BX\":1, \"BY\":5, \"BZ\":9,\n",
    "    \"CX\":2, \"CY\":6, \"CZ\":7\n",
    "}\n",
    "\n",
    "desired_score = sum(desired_outcomes[round] for round in rounds)\n",
    "\n",
    "print(desired_score) # 2nd answer \n"
   ]
  },
  {
   "cell_type": "code",
   "execution_count": null,
   "metadata": {},
   "outputs": [],
   "source": [
    "from string import ascii_letters\n",
    "\n",
    "for value, character in enumerate(ascii_letters, start=1):\n",
    "    print(f\"{character} = {value}\")"
   ]
  }
 ],
 "metadata": {
  "kernelspec": {
   "display_name": "Python 3",
   "language": "python",
   "name": "python3"
  },
  "language_info": {
   "codemirror_mode": {
    "name": "ipython",
    "version": 3
   },
   "file_extension": ".py",
   "mimetype": "text/x-python",
   "name": "python",
   "nbconvert_exporter": "python",
   "pygments_lexer": "ipython3",
   "version": "3.11.1"
  },
  "orig_nbformat": 4,
  "vscode": {
   "interpreter": {
    "hash": "1682e5d06a6d97c1b1cf6bb4ae6cf16223e994936ddb1d53664597d7d46101fa"
   }
  }
 },
 "nbformat": 4,
 "nbformat_minor": 2
}
