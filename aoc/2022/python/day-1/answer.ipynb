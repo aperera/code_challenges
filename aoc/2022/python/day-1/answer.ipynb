{
 "cells": [
  {
   "cell_type": "code",
   "execution_count": null,
   "metadata": {},
   "outputs": [],
   "source": [
    "\"\"\"\n",
    "The code reads the contents of a text file named \"puzzle-input.txt\" located in the current directory (indicated by the ./ prefix) and stores each line of the file as a separate element in a list called lines.\n",
    "\n",
    "The with statement is used to open the file in read mode ('r'). This statement creates a context in which the file is open, and ensures that it is automatically closed after the block of code following the with statement is executed. This is a more convenient and safer way to handle files, as it helps avoid the need to manually close the file and reduces the risk of leaving the file open.\n",
    "\n",
    "The read() method is then called on the file object to read its contents as a string. The splitlines() method is then called on this string to split it into a list of lines, with each line being an element in the lines list. The splitlines() method removes any newline characters at the end of each line.\n",
    "\n",
    "Finally, the print() function is called to display the contents of the lines list on the console. This allows the user to see the contents of the file that was read.\n",
    "\"\"\"\n",
    "with open('./puzzle-input.txt', 'r') as file:\n",
    "    lines = file.read().splitlines()\n",
    "\n",
    "print (lines)\n"
   ]
  },
  {
   "cell_type": "code",
   "execution_count": null,
   "metadata": {},
   "outputs": [],
   "source": [
    "\"\"\"\n",
    "The code calculates the sum of a set of integers that are stored as individual lines in the lines list created in the previous code block.\n",
    "\n",
    "A new empty list calories_sum_list is initialized to store the sum of each set of integers, and a new variable calories_sum is initialized to 0.\n",
    "\n",
    "A for loop is used to iterate over each element in the lines list. For each non-empty line, the integer value of the line is added to the calories_sum variable using the int() function.\n",
    "\n",
    "When an empty line is encountered, it means the end of a set of integers has been reached. In this case, the sum of the integers in the set is appended to the calories_sum_list using the append() method. The calories_sum variable is reset to 0 in preparation for the next set of integers.\n",
    "\n",
    "The last set of integers (which may not end with an empty line) is also appended to calories_sum_list after the loop has finished.\n",
    "\n",
    "Finally, the print() function is used to display the calories_sum_list on the console. This will show the sum of each set of integers that were read from the file, as calculated by the loop.\n",
    "\"\"\"\n",
    "calories_sum_list = []\n",
    "calories_sum = 0\n",
    "\n",
    "for line in lines:\n",
    "    if line != '':\n",
    "        calories_sum += int(line)\n",
    "    else:\n",
    "        calories_sum_list.append(calories_sum)\n",
    "        calories_sum = 0\n",
    "\n",
    "calories_sum_list.append(calories_sum)\n",
    "\n",
    "print (calories_sum_list)\n"
   ]
  },
  {
   "cell_type": "code",
   "execution_count": null,
   "metadata": {},
   "outputs": [],
   "source": [
    "\"\"\"\n",
    "The max() function is a built-in Python function that returns the largest value in a list. In this case, it is used to find the largest sum of a set of integers from the calories_sum_list.\n",
    "\n",
    "The result of calling max(calories_sum_list) is passed as an argument to the print() function, which then prints the result on the console.\n",
    "\"\"\"\n",
    "print(max(calories_sum_list)) # 1st answer\n"
   ]
  },
  {
   "cell_type": "code",
   "execution_count": null,
   "metadata": {},
   "outputs": [],
   "source": [
    "\"\"\"\n",
    "The sorted() function is used to sort the calories_sum_list in descending order, so that the largest values appear at the beginning of the list. The reverse=True argument is used to indicate that the list should be sorted in descending order.\n",
    "\n",
    "The sorted list is then sliced using the [:3] syntax to select the first three elements of the list, which correspond to the three largest values in the list.\n",
    "\n",
    "The sum() function is then called on the sliced list to compute the sum of these three largest values.\n",
    "\n",
    "Finally, the result of calling sum(sorted(calories_sum_list, reverse=True)[:3]) is passed as an argument to the print() function, which then prints the result on the console.\n",
    "\"\"\"\n",
    "print(sum(sorted(calories_sum_list, reverse=True)[:3])) # 2nd answer\n"
   ]
  }
 ],
 "metadata": {
  "kernelspec": {
   "display_name": "Python 3",
   "language": "python",
   "name": "python3"
  },
  "language_info": {
   "codemirror_mode": {
    "name": "ipython",
    "version": 3
   },
   "file_extension": ".py",
   "mimetype": "text/x-python",
   "name": "python",
   "nbconvert_exporter": "python",
   "pygments_lexer": "ipython3",
   "version": "3.11.1"
  },
  "orig_nbformat": 4,
  "vscode": {
   "interpreter": {
    "hash": "1682e5d06a6d97c1b1cf6bb4ae6cf16223e994936ddb1d53664597d7d46101fa"
   }
  }
 },
 "nbformat": 4,
 "nbformat_minor": 2
}
