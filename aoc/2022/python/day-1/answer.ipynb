{
 "cells": [
  {
   "attachments": {},
   "cell_type": "markdown",
   "metadata": {},
   "source": [
    "# Day 1: Calorie Counting\n",
    "\n",
    "## Part 1\n",
    "\n",
    "In summary, the code reads the contents of a file called \"puzzle-input.txt\" and creates a list of strings, with each string representing a line from the file. The list of strings is then printed to the console. The use of a list comprehension makes the code more concise and Pythonic.\n",
    "\n",
    "1. with open('./puzzle-input.txt', 'r') as file: - This line of code is using the built-in Python function open() to open a file called \"puzzle-input.txt\" in read-only mode ('r'). The file is assumed to be in the same directory as the Python script. The **with** statement is used to automatically close the file after it's been read. The file object is assigned to the variable file.\n",
    "\n",
    "2. lines = [line.strip() for line in file] - This line of code reads each line of the file object file using a list comprehension. The strip() method is used to remove any whitespace characters (like newlines) from the beginning and end of each line, and the resulting string is added to a new list. The resulting list is assigned to the variable lines.\n",
    "\n",
    "3. print(lines) - This line of code simply prints the list of strings, which represents the lines of text from the file."
   ]
  },
  {
   "cell_type": "code",
   "execution_count": null,
   "metadata": {},
   "outputs": [],
   "source": [
    "with open('./puzzle-input.txt', 'r') as file:\n",
    "    lines = [line.strip() for line in file]\n",
    "\n",
    "print (lines)"
   ]
  },
  {
   "attachments": {},
   "cell_type": "markdown",
   "metadata": {},
   "source": [
    "5. The code calculates the sum of a set of integers that are stored as individual lines in the lines list created in the previous code block.\n",
    "6. A new empty list calories_sum_list is initialized to store the sum of each set of integers, and a new variable calories_sum is initialized to 0.\n",
    "7. A for loop is used to iterate over each element in the lines list. For each non-empty line, the integer value of the line is added to the calories_sum variable using the int() function.\n",
    "8. When an empty line is encountered, it means the end of a set of integers has been reached. In this case, the sum of the integers in the set is appended to the calories_sum_list using the append() method. The calories_sum variable is reset to 0 in preparation for the next set of integers.\n",
    "9.  The last set of integers (which may not end with an empty line) is also appended to calories_sum_list after the loop has finished. Finally, the print() function is used to display the calories_sum_list on the console. This will show the sum of each set of integers that were read from the file, as calculated by the loop."
   ]
  },
  {
   "cell_type": "code",
   "execution_count": null,
   "metadata": {},
   "outputs": [],
   "source": [
    "calories_sum_list = []\n",
    "calories_sum = 0\n",
    "\n",
    "for line in lines:\n",
    "    if line != '':\n",
    "        calories_sum += int(line)\n",
    "    else:\n",
    "        calories_sum_list.append(calories_sum)\n",
    "        calories_sum = 0\n",
    "\n",
    "calories_sum_list.append(calories_sum)\n",
    "\n",
    "print (calories_sum_list)"
   ]
  },
  {
   "attachments": {},
   "cell_type": "markdown",
   "metadata": {},
   "source": [
    "10. The max() function is a built-in Python function that returns the largest value in a list. In this case, it is used to find the largest sum of a set of integers from the calories_sum_list. The result of calling max(calories_sum_list) is passed as an argument to the print() function, which then prints the result on the console."
   ]
  },
  {
   "cell_type": "code",
   "execution_count": null,
   "metadata": {},
   "outputs": [],
   "source": [
    "print(max(calories_sum_list)) # 1st answer"
   ]
  },
  {
   "attachments": {},
   "cell_type": "markdown",
   "metadata": {},
   "source": [
    "## Part Two\n",
    "\n",
    "11. The sorted() function is used to sort the calories_sum_list in descending order, so that the largest values appear at the beginning of the list. The reverse=True argument is used to indicate that the list should be sorted in descending order. The sorted list is then sliced using the [:3] syntax to select the first three elements of the list, which correspond to the three largest values in the list. The sum() function is then called on the sliced list to compute the sum of these three largest values. Finally, the result of calling sum(sorted(calories_sum_list, reverse=True)[:3]) is passed as an argument to the print() function, which then prints the result on the console."
   ]
  },
  {
   "cell_type": "code",
   "execution_count": null,
   "metadata": {},
   "outputs": [],
   "source": [
    "print(sum(sorted(calories_sum_list, reverse=True)[:3])) # 2nd answer"
   ]
  }
 ],
 "metadata": {
  "kernelspec": {
   "display_name": "Python 3",
   "language": "python",
   "name": "python3"
  },
  "language_info": {
   "codemirror_mode": {
    "name": "ipython",
    "version": 3
   },
   "file_extension": ".py",
   "mimetype": "text/x-python",
   "name": "python",
   "nbconvert_exporter": "python",
   "pygments_lexer": "ipython3",
   "version": "3.11.2"
  },
  "orig_nbformat": 4,
  "vscode": {
   "interpreter": {
    "hash": "1682e5d06a6d97c1b1cf6bb4ae6cf16223e994936ddb1d53664597d7d46101fa"
   }
  }
 },
 "nbformat": 4,
 "nbformat_minor": 2
}
