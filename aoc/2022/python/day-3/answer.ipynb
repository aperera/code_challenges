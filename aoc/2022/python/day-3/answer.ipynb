{
 "cells": [
  {
   "cell_type": "code",
   "execution_count": null,
   "metadata": {},
   "outputs": [],
   "source": [
    "from string import ascii_letters\n",
    "\n",
    "# Getting data\n",
    "with open('./puzzle-input.txt') as file:\n",
    "    lines = [i for i in file.read().strip().split(\"\\n\")]\n",
    "\n",
    "#print(lines)"
   ]
  },
  {
   "cell_type": "code",
   "execution_count": null,
   "metadata": {},
   "outputs": [],
   "source": [
    "totalSum = 0\n",
    "for entry in lines:\n",
    "    # Get the half way mark\n",
    "    half = len(entry)//2\n",
    "    \n",
    "    # Split up the string\n",
    "    leftSide = set(entry[:half])\n",
    "    rightSide = set(entry[half:])\n",
    "\n",
    "    # print(leftSide, rightSide)\n",
    "    for value, character in enumerate(ascii_letters):\n",
    "        if character in leftSide and character in rightSide:\n",
    "            totalSum += value + 1\n",
    "\n",
    "print(\"Answer to part 1: \", totalSum)"
   ]
  },
  {
   "cell_type": "code",
   "execution_count": null,
   "metadata": {},
   "outputs": [],
   "source": [
    "totalSum = 0\n",
    "j = 3\n",
    "for i in range(0, len(lines), 3):\n",
    "    entry = lines[i:j]\n",
    "    j += 3\n",
    "\n",
    "    for value, character in enumerate(ascii_letters):\n",
    "        if character in entry[0] and character in entry[1] and character in entry[2]:\n",
    "            totalSum += value + 1\n",
    "\n",
    "\n",
    "print(\"Answer to part 2: \", totalSum)"
   ]
  }
 ],
 "metadata": {
  "kernelspec": {
   "display_name": "Python 3",
   "language": "python",
   "name": "python3"
  },
  "language_info": {
   "codemirror_mode": {
    "name": "ipython",
    "version": 3
   },
   "file_extension": ".py",
   "mimetype": "text/x-python",
   "name": "python",
   "nbconvert_exporter": "python",
   "pygments_lexer": "ipython3",
   "version": "3.11.1"
  },
  "orig_nbformat": 4,
  "vscode": {
   "interpreter": {
    "hash": "1682e5d06a6d97c1b1cf6bb4ae6cf16223e994936ddb1d53664597d7d46101fa"
   }
  }
 },
 "nbformat": 4,
 "nbformat_minor": 2
}
