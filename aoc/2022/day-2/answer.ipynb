{
 "cells": [
  {
   "attachments": {},
   "cell_type": "markdown",
   "metadata": {},
   "source": [
    "# Day 2: Rock Paper Scissors\n",
    "\n",
    "## Part 1\n",
    "\n",
    "1. The code reads in the contents of a file named \"puzzle-input.txt\" located in the current directory and stores each line of the file as a string element in a list called \"rounds\". The \"with\" statement is used to open the file in read-only mode, and it automatically closes the file when the block of code inside the \"with\" statement is finished executing.\n",
    "\n",
    "2. The list comprehension inside the \"with\" statement removes any spaces from each line of the file using the \"replace\" method and removes the newline character at the end of each line using the \"rstrip\" method with the \"\\n\" argument.\n",
    "\n",
    "3. Finally, the code prints out the \"rounds\" list, which contains all the lines from the \"puzzle-input.txt\" file as string elements, with spaces removed and newline characters stripped."
   ]
  },
  {
   "cell_type": "code",
   "execution_count": null,
   "metadata": {},
   "outputs": [],
   "source": [
    "with open('./puzzle-input.txt', 'r') as file:\n",
    "    rounds = [line.replace(\" \", \"\").rstrip(\"\\n\") for line in file]\n",
    "\n",
    "print(rounds)"
   ]
  },
  {
   "attachments": {},
   "cell_type": "markdown",
   "metadata": {},
   "source": [
    "4. The code is a comment that explains the mappings and rules for a game played using three items - rock, paper, and scissors - represented by the integers 1, 2, and 3, respectively. The comment also defines the scoring system for the game, with a win worth 6 points, a draw worth 3 points, and a loss worth 0 points.\n",
    "    \n",
    "5. The code then defines a dictionary called \"expected_outcomes\" that maps each possible matchup between the three items to its expected outcome based on the game's rules. The expected outcomes are calculated using the scoring system defined in the comment.\n",
    "\n",
    "6. Finally, the code uses the \"sum\" function to calculate the expected score for the given set of rounds using the \"expected_outcomes\" dictionary, which was defined earlier in the comment. The result is stored in a variable called \"expected_score\", which is then printed out. This value represents the total expected score for the given set of rounds based on the expected outcomes from the \"expected_outcomes\" dictionary."
   ]
  },
  {
   "cell_type": "code",
   "execution_count": null,
   "metadata": {},
   "outputs": [],
   "source": [
    "# A is Rock = 1\n",
    "# B is Paper = 2\n",
    "# C is Scissors = 3\n",
    "#\n",
    "# X assume Rock = 1\n",
    "# Y assume paper = 2\n",
    "# Z assume Scissors = 3\n",
    "#\n",
    "# {Rock,A,X} = 1 \n",
    "# {Paper,B,Y} = 2\n",
    "# {Scissors,C,Z} = 3\n",
    "#\n",
    "# lose = 0\n",
    "# draw = 3\n",
    "# win = 6\n",
    "# \n",
    "# P + Q = {DRAW,LOSS,WIN}\n",
    "# ----------------------------------------------\n",
    "# Rounds | Result | TOTAL (Q+{DRAW,LOSS,WIN})\n",
    "# ----------------------------------------------\n",
    "# A vs X = DRAW   = (1+3) = 4\n",
    "# A vs Y = WIN    = (2+6) = 8\n",
    "# A vs Z = LOSS   = (3+0) = 3\n",
    "#\n",
    "# B vs X = LOSS   = (1+0) = 1\n",
    "# B vs Y = DRAW   = (2+3) = 5\n",
    "# B vs Z = WIN    = (3+6) = 9\n",
    "#\n",
    "# C vs X = WIN    = (1+6) = 7\n",
    "# C vs Y = LOSS   = (2+0) = 2\n",
    "# C vs Z = DRAW   = (3+3) = 6\n",
    "#\n",
    "# Outcomes -> 3*3 = 9\n",
    "expected_outcomes = {\n",
    "    \"AX\":4, \"AY\":8, \"AZ\":3, \n",
    "    \"BX\":1, \"BY\":5, \"BZ\":9, \n",
    "    \"CX\":7, \"CY\":2, \"CZ\":6 \n",
    "}\n",
    "\n",
    "expected_score = sum(expected_outcomes[round] for round in rounds)\n",
    "\n",
    "print(expected_score) # 1st answer\n"
   ]
  },
  {
   "attachments": {},
   "cell_type": "markdown",
   "metadata": {},
   "source": [
    "## Part 2\n",
    "\n",
    "7. This code is a comment that explains the mappings and rules for a game played using three items - rock, paper, and scissors - represented by the integers 1, 2, and 3, respectively. The comment also defines a new scoring system for the game, with a win worth 6 points, a draw worth 3 points, and a loss worth 0 points, and assigns the labels X, Y, and Z to the values of 0, 3, and 6, respectively.\n",
    "\n",
    "8. The code then defines a dictionary called \"desired_outcomes\" that maps each possible matchup between the three items to its expected outcome based on the new scoring system. The desired outcomes are calculated using the scoring system defined in the comment.\n",
    "\n",
    "9. Finally, the code uses the \"sum\" function to calculate the desired score for the given set of rounds using the \"desired_outcomes\" dictionary, which was defined earlier in the comment. The result is stored in a variable called \"desired_score\", which is then printed out. This value represents the total desired score for the given set of rounds based on the desired outcomes from the \"desired_outcomes\" dictionary."
   ]
  },
  {
   "cell_type": "code",
   "execution_count": null,
   "metadata": {},
   "outputs": [],
   "source": [
    "# A is Rock = 1\n",
    "# B is Paper = 2\n",
    "# C is Scissors = 3\n",
    "\n",
    "# X is lose = 0\n",
    "# Y is Draw = 3\n",
    "# Z is Win = 6\n",
    "# \n",
    "# {Rock,A} = 1\n",
    "# {Paper,B} = 2\n",
    "# {Scissor,C} = 3\n",
    "#\n",
    "# {X,lose} = 0\n",
    "# {Y,draw} = 3\n",
    "# {Z,win}  = 6\n",
    "#\n",
    "# P + Q{A,B,C} = {DRAW,LOSS,WIN}\n",
    "# -----------------------------------------------------\n",
    "# Rounds    | Result | TOTAL (Q{A,B,C}+{DRAW,LOSS,WIN})\n",
    "# -----------------------------------------------------\n",
    "# A vs X(C) = LOSE   = (3+0) = 3\n",
    "# A vs Y(A) = DRAW   = (1+3) = 4\n",
    "# A vs Z(B) = WIN    = (2+6) = 8\n",
    "#\n",
    "# B vs X(A) = LOSE   = (1+0) = 1\n",
    "# B vs Y(B) = DRAW   = (2+3) = 5\n",
    "# B vs Z(C) = WIN    = (3+6) = 9\n",
    "#\n",
    "# C vs X(B) = LOSE   = (2+0) = 2\n",
    "# C vs Y(C) = DRAW   = (3+3) = 6\n",
    "# C vs Z(A) = WIN    = (1+6) = 7\n",
    "#\n",
    "# Outcomes -> 3*3 = 9\n",
    "desired_outcomes = {\n",
    "    \"AX\":3, \"AY\":4, \"AZ\":8,\n",
    "    \"BX\":1, \"BY\":5, \"BZ\":9,\n",
    "    \"CX\":2, \"CY\":6, \"CZ\":7\n",
    "}\n",
    "\n",
    "desired_score = sum(desired_outcomes[round] for round in rounds)\n",
    "\n",
    "print(desired_score) # 2nd answer \n"
   ]
  },
  {
   "cell_type": "code",
   "execution_count": null,
   "metadata": {},
   "outputs": [],
   "source": [
    "from string import ascii_letters\n",
    "\n",
    "for value, character in enumerate(ascii_letters, start=1):\n",
    "    print(f\"{character} = {value}\")"
   ]
  }
 ],
 "metadata": {
  "kernelspec": {
   "display_name": "Python 3",
   "language": "python",
   "name": "python3"
  },
  "language_info": {
   "codemirror_mode": {
    "name": "ipython",
    "version": 3
   },
   "file_extension": ".py",
   "mimetype": "text/x-python",
   "name": "python",
   "nbconvert_exporter": "python",
   "pygments_lexer": "ipython3",
   "version": "3.11.1"
  },
  "orig_nbformat": 4,
  "vscode": {
   "interpreter": {
    "hash": "1682e5d06a6d97c1b1cf6bb4ae6cf16223e994936ddb1d53664597d7d46101fa"
   }
  }
 },
 "nbformat": 4,
 "nbformat_minor": 2
}
