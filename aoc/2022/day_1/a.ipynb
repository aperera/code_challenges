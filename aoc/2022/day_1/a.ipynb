{
 "cells": [
  {
   "cell_type": "code",
   "execution_count": null,
   "metadata": {},
   "outputs": [],
   "source": [
    "f = open('c.txt', 'r')\n",
    "#print(f.read())"
   ]
  },
  {
   "cell_type": "code",
   "execution_count": null,
   "metadata": {},
   "outputs": [],
   "source": [
    "with open('c.txt', 'r') as f:\n",
    "    cal = [i for i in f.read().strip().split('\\n')]\n",
    "    \n",
    "#print(cal)"
   ]
  },
  {
   "cell_type": "code",
   "execution_count": null,
   "metadata": {},
   "outputs": [],
   "source": [
    "a = []\n",
    "count = 0\n",
    "num = 0\n",
    "\n",
    "for item in cal:\n",
    "    \n",
    "    if item != '':\n",
    "        num = int(item)\n",
    "        count += num\n",
    "\n",
    "    else:\n",
    "        a.append(count)\n",
    "        count = 0\n",
    "\n",
    "a.append(count)\n",
    "a.sort(reverse=True)\n",
    "\n",
    "print(a[0]) # 1st answer\n",
    "print(a[0]+a[1]+a[2]) # 2nd answer"
   ]
  },
  {
   "cell_type": "code",
   "execution_count": null,
   "metadata": {},
   "outputs": [],
   "source": []
  }
 ],
 "metadata": {
  "kernelspec": {
   "display_name": "Python 3",
   "language": "python",
   "name": "python3"
  },
  "language_info": {
   "codemirror_mode": {
    "name": "ipython",
    "version": 3
   },
   "file_extension": ".py",
   "mimetype": "text/x-python",
   "name": "python",
   "nbconvert_exporter": "python",
   "pygments_lexer": "ipython3",
   "version": "3.11.1"
  },
  "orig_nbformat": 4,
  "vscode": {
   "interpreter": {
    "hash": "1682e5d06a6d97c1b1cf6bb4ae6cf16223e994936ddb1d53664597d7d46101fa"
   }
  }
 },
 "nbformat": 4,
 "nbformat_minor": 2
}
