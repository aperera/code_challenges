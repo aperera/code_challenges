{
 "cells": [
  {
   "cell_type": "code",
   "execution_count": 1,
   "metadata": {},
   "outputs": [
    {
     "name": "stdout",
     "output_type": "stream",
     "text": [
      "24000\n",
      "49000\n"
     ]
    }
   ],
   "source": [
    "with open('./data.txt', 'r') as f:\n",
    "    cal = [int(i) for i in f.read().strip().split('\\n') if i]\n",
    "\n",
    "a = [sum(cal[i:i+3]) for i in range(0, len(cal), 3)]\n",
    "a.sort(reverse=True)\n",
    "\n",
    "print(a[0])             # 1st answer\n",
    "print(sum(a[:3]))       # 2nd answer\n"
   ]
  },
  {
   "cell_type": "code",
   "execution_count": 1,
   "metadata": {},
   "outputs": [
    {
     "name": "stdout",
     "output_type": "stream",
     "text": [
      "['1000', '2000', '3000', '', '4000', '', '5000', '6000', '', '7000', '8000', '9000', '', '10000']\n"
     ]
    }
   ],
   "source": [
    "with open('./data.txt', 'r') as file:\n",
    "    cal = [i for i in file.read().strip().split('\\n')]\n",
    "\n",
    "print(cal)\n"
   ]
  },
  {
   "cell_type": "code",
   "execution_count": 3,
   "metadata": {},
   "outputs": [
    {
     "ename": "NameError",
     "evalue": "name 'i' is not defined",
     "output_type": "error",
     "traceback": [
      "\u001b[1;31m---------------------------------------------------------------------------\u001b[0m",
      "\u001b[1;31mNameError\u001b[0m                                 Traceback (most recent call last)",
      "Cell \u001b[1;32mIn[3], line 1\u001b[0m\n\u001b[1;32m----> 1\u001b[0m i \u001b[39m=\u001b[39m \u001b[39mint\u001b[39m(i)\n\u001b[0;32m      2\u001b[0m a \u001b[39m=\u001b[39m [\u001b[39msum\u001b[39m(cal[i:i\u001b[39m+\u001b[39m\u001b[39m3\u001b[39m]) \u001b[39mfor\u001b[39;00m i \u001b[39min\u001b[39;00m \u001b[39mrange\u001b[39m(\u001b[39m0\u001b[39m, \u001b[39mlen\u001b[39m(cal), \u001b[39m3\u001b[39m)]\n\u001b[0;32m      4\u001b[0m \u001b[39mprint\u001b[39m(a)\n",
      "\u001b[1;31mNameError\u001b[0m: name 'i' is not defined"
     ]
    }
   ],
   "source": [
    "a = [sum(cal[i:i+3]) for i in range(0, len(cal), 3)]\n",
    "\n",
    "print(a)\n"
   ]
  },
  {
   "cell_type": "code",
   "execution_count": null,
   "metadata": {},
   "outputs": [],
   "source": [
    "with open('./data.txt', 'r') as f:\n",
    "    cal = [int(i) for i in f.read().strip().split('\\n') if i]\n",
    "\n",
    "print (cal)\n"
   ]
  },
  {
   "cell_type": "code",
   "execution_count": null,
   "metadata": {},
   "outputs": [],
   "source": [
    "a = [sum(cal[i:i+3]) for i in range(0, len(cal), 3)]\n",
    "print (a)\n"
   ]
  }
 ],
 "metadata": {
  "kernelspec": {
   "display_name": "Python 3",
   "language": "python",
   "name": "python3"
  },
  "language_info": {
   "codemirror_mode": {
    "name": "ipython",
    "version": 3
   },
   "file_extension": ".py",
   "mimetype": "text/x-python",
   "name": "python",
   "nbconvert_exporter": "python",
   "pygments_lexer": "ipython3",
   "version": "3.11.1"
  },
  "orig_nbformat": 4,
  "vscode": {
   "interpreter": {
    "hash": "1682e5d06a6d97c1b1cf6bb4ae6cf16223e994936ddb1d53664597d7d46101fa"
   }
  }
 },
 "nbformat": 4,
 "nbformat_minor": 2
}
