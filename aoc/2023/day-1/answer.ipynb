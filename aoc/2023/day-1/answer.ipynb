{
 "cells": [
  {
   "attachments": {},
   "cell_type": "markdown",
   "metadata": {},
   "source": [
    "# Day 1: Calorie Counting\n",
    "\n",
    "## Part 1\n",
    "\n",
    "To solve the puzzle, we must first create a list with each item (calories), including empty elements. The code uses `with open` to read the input file, ensuring the file is automatically closed after the read-only operation. It processes the file line by line, removing leading and trailing white spaces and populating a list assigned to the variable `lines`. Finally, the list is displayed on the screen using `print (lines)`."
   ]
  },
  {
   "cell_type": "code",
   "execution_count": null,
   "metadata": {},
   "outputs": [],
   "source": [
    "with open('./puzzle-input.txt', 'r') as file:\n",
    "    lines = [line.strip() for line in file]\n",
    "\n",
    "print (lines)"
   ]
  },
  {
   "attachments": {},
   "cell_type": "markdown",
   "metadata": {},
   "source": [
    "The code processes a list of strings called `lines`, which contains numbers and empty strings. It calculates the sum of consecutive numbers in the list and stores these sums in a new list called `calories_sum_list`. Empty strings in the lines list act as separators between groups of numbers. Finally, the code prints the `calories_sum_list` to the console.\n",
    "\n",
    "The code inside the `for` loop iterates through each line in the `lines` list. If the line is not empty, it adds the integer value of the line to the current sum (`calories_sum`). If the line is empty, it appends the current sum to the `calories_sum_list`, and resets the current sum to 0 for the next group of numbers. After the loop has finished, this line adds the last accumulated `calories_sum` to the `calories_sum_list`."
   ]
  },
  {
   "cell_type": "code",
   "execution_count": null,
   "metadata": {},
   "outputs": [],
   "source": [
    "def find_first_last_digits(s):\n",
    "    digits = [char for char in s if char.isdigit()]\n",
    "    first_digit = digits[0] if digits else ''\n",
    "    last_digit = digits[-1] if digits else ''\n",
    "    return first_digit + last_digit  # Concatenating the digits as strings\n",
    "\n",
    "# Iterate through each string and print the value\n",
    "for s in lines:\n",
    "    value = find_first_last_digits(s)\n",
    "    if value:  # Check if value is not an empty string\n",
    "        print(f\"'{s}' -> {value}\")\n",
    "\n",
    "# Getting the concatenated first and last digits as integers\n",
    "concatenated_digits = [int(find_first_last_digits(s)) for s in lines if find_first_last_digits(s)]\n",
    "\n",
    "# Summing up the integers\n",
    "total_sum = sum(concatenated_digits)\n",
    "\n",
    "print(f\"Total sum: {total_sum}\")"
   ]
  },
  {
   "cell_type": "code",
   "execution_count": null,
   "metadata": {},
   "outputs": [],
   "source": [
    "import re\n",
    "\n",
    "DIGITS = 'zero one two three four five six seven eight nine'.split()\n",
    "NUMBER_PAT = re.compile(f'(?=([0-9]|{\"|\".join(DIGITS)}))')\n",
    "\n",
    "s = sum(\n",
    "    int(\n",
    "        ''.join(\n",
    "            str(DIGITS.index(m)) if m in DIGITS\n",
    "            else m\n",
    "            for m in [matches[0], matches[-1]]\n",
    "        )\n",
    "    )\n",
    "    for line in open('./puzzle-input.txt').read().split('\\n')\n",
    "    if (matches := NUMBER_PAT.findall(line))\n",
    ")\n",
    "\n",
    "print(s)"
   ]
  },
  {
   "cell_type": "code",
   "execution_count": null,
   "metadata": {},
   "outputs": [],
   "source": [
    "import re\n",
    "\n",
    "sum(\n",
    "    int(digits[0] + digits[-1])\n",
    "    for line in open('./puzzle-input.txt').read().split('\\n')\n",
    "    if (digits := re.findall(r'[0-9]', line))\n",
    ")"
   ]
  },
  {
   "cell_type": "code",
   "execution_count": null,
   "metadata": {},
   "outputs": [],
   "source": [
    "import numpy as np\n",
    "import pandas as pd\n",
    "import re\n",
    "\n",
    "# Read the file\n",
    "file_path = './puzzle-input.txt'\n",
    "data = pd.read_csv(file_path, header=None, names=['line'])\n",
    "\n",
    "# Function to extract digits\n",
    "\n",
    "\n",
    "def extract_digits(row):\n",
    "    digits = re.findall(r'\\d', row['line'])\n",
    "    if digits:\n",
    "        return int(digits[0]), int(digits[-1])\n",
    "    else:\n",
    "        return np.nan, np.nan\n",
    "\n",
    "\n",
    "# Apply the function\n",
    "data[['first_digit', 'last_digit']] = data.apply(\n",
    "    extract_digits, axis=1, result_type='expand')\n",
    "\n",
    "# Drop NaN rows and sum up\n",
    "result = data.dropna().astype(int).sum().sum()\n",
    "\n",
    "print(result)"
   ]
  },
  {
   "cell_type": "code",
   "execution_count": 6,
   "metadata": {},
   "outputs": [
    {
     "name": "stdout",
     "output_type": "stream",
     "text": [
      "Sum of the power games: 63981\n"
     ]
    }
   ],
   "source": [
    "import os\n",
    "import re\n",
    "\n",
    "# Open the file in read mode\n",
    "with open(\"puzzle-input.txt\", \"r\") as input_file:\n",
    "    # Read the lines from the file\n",
    "    file_lines = input_file.readlines()\n",
    "\n",
    "r_cubes = 12\n",
    "g_cubes = 13\n",
    "b_cubes = 14\n",
    "\n",
    "re_pattern = r\"\\d+ (red|green|blue)\"\n",
    "\n",
    "game_power_sets_sum = 0\n",
    "for game in file_lines:\n",
    "    game_id = game.split(\" \")[1][:-1]\n",
    "    matches = [m.group() for m in re.finditer(re_pattern, game)]\n",
    "    min_r_cubes = 0\n",
    "    min_g_cubes = 0\n",
    "    min_b_cubes = 0\n",
    "    for match in matches:\n",
    "        (n, color) = match.split(\" \")\n",
    "        if color == \"red\" and int(n) > min_r_cubes:\n",
    "            min_r_cubes = int(n)\n",
    "        elif color == \"green\" and int(n) > min_g_cubes:\n",
    "            min_g_cubes = int(n)\n",
    "        elif color == \"blue\" and int(n) > min_b_cubes:\n",
    "            min_b_cubes = int(n)\n",
    "\n",
    "    game_set_power = min_r_cubes * min_g_cubes * min_b_cubes\n",
    "    game_power_sets_sum += game_set_power\n",
    "\n",
    "print(\"Sum of the power games:\", game_power_sets_sum)\n",
    "\n"
   ]
  }
 ],
 "metadata": {
  "kernelspec": {
   "display_name": "Python 3",
   "language": "python",
   "name": "python3"
  },
  "language_info": {
   "codemirror_mode": {
    "name": "ipython",
    "version": 3
   },
   "file_extension": ".py",
   "mimetype": "text/x-python",
   "name": "python",
   "nbconvert_exporter": "python",
   "pygments_lexer": "ipython3",
   "version": "3.12.0"
  },
  "orig_nbformat": 4,
  "vscode": {
   "interpreter": {
    "hash": "1682e5d06a6d97c1b1cf6bb4ae6cf16223e994936ddb1d53664597d7d46101fa"
   }
  }
 },
 "nbformat": 4,
 "nbformat_minor": 2
}
